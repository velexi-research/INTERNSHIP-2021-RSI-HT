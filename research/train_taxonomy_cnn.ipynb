{
 "cells": [
  {
   "cell_type": "code",
   "execution_count": 1,
   "metadata": {},
   "outputs": [],
   "source": [
    "import torch\n",
    "import numpy as np\n",
    "import sys\n",
    "sys.path.insert(0, '../lib')\n",
    "from models import BasicCNN, TaxonomyCNN, evaluate_model\n",
    "from dataset_utils import train_test_split, split_dataset\n",
    "from datasets import Genes, Mutations"
   ]
  },
  {
   "cell_type": "code",
   "execution_count": 4,
   "metadata": {
    "scrolled": true
   },
   "outputs": [
    {
     "name": "stdout",
     "output_type": "stream",
     "text": [
      "Epoch: 1/10\n",
      "Loss: 1.7923204898834229\n",
      "Test accuracy: 0.17466666666666666\n",
      "\n",
      "Epoch: 2/10\n",
      "Loss: 1.7759990692138672\n",
      "Test accuracy: 0.183\n",
      "\n",
      "Epoch: 3/10\n",
      "Loss: 1.8190256357192993\n",
      "Test accuracy: 0.19866666666666666\n",
      "\n",
      "Epoch: 4/10\n",
      "Loss: 1.7375704050064087\n",
      "Test accuracy: 0.2653333333333333\n",
      "\n",
      "Epoch: 5/10\n",
      "Loss: 1.682586908340454\n",
      "Test accuracy: 0.2763333333333333\n",
      "\n",
      "Epoch: 6/10\n",
      "Loss: 1.7589813470840454\n",
      "Test accuracy: 0.2856666666666667\n",
      "\n",
      "Epoch: 7/10\n",
      "Loss: 1.8001174926757812\n",
      "Test accuracy: 0.25266666666666665\n",
      "\n",
      "Epoch: 8/10\n",
      "Loss: 1.7624294757843018\n",
      "Test accuracy: 0.27266666666666667\n",
      "\n",
      "Epoch: 9/10\n",
      "Loss: 1.821192979812622\n",
      "Test accuracy: 0.244\n",
      "\n",
      "Epoch: 10/10\n",
      "Loss: 1.7226572036743164\n",
      "Test accuracy: 0.26266666666666666\n",
      "\n"
     ]
    }
   ],
   "source": [
    "args_dict = [{'batch_size': 5, 'epochs': 10, 'lr': 0.01}]\n",
    "\n",
    "for i in range(len(args_dict)):\n",
    "    dataset = Genes('../data', k=500)\n",
    "    dataset, test_set = split_dataset(dataset, 0.1, True)\n",
    "\n",
    "    train_labels = torch.from_numpy(np.array(dataset.y)).cuda()\n",
    "    test_labels = torch.from_numpy(np.array(test_set.y))\n",
    "\n",
    "    dataset_loader = torch.utils.data.DataLoader(dataset, batch_size=5)\n",
    "    labels_loader = torch.utils.data.DataLoader(train_labels, batch_size=5)\n",
    "\n",
    "    model = TaxonomyCNN().train().cuda()\n",
    "    criterion = torch.nn.CrossEntropyLoss()\n",
    "    optimizer = torch.optim.SGD(model.parameters(), lr=args_dict[i]['lr'])\n",
    "\n",
    "    losses = []\n",
    "    loss = None\n",
    "    for epoch in range(args_dict[i]['epochs']):\n",
    "        print('Epoch: ' + str(epoch+1) + '/' + str(args_dict[i]['epochs']))\n",
    "        model = model.train().cuda()\n",
    "\n",
    "        for x, y in zip(dataset_loader, labels_loader):\n",
    "            optimizer.zero_grad()\n",
    "\n",
    "            prediction = model(x.cuda())\n",
    "            loss = criterion(prediction, y)\n",
    "\n",
    "            loss.backward()\n",
    "            optimizer.step()\n",
    "\n",
    "        losses.append(loss.item())\n",
    "        print('Loss: ' + str(losses[-1]))\n",
    "        test_acc = evaluate_model(model.cpu(), test_set, test_labels)\n",
    "        print('Test accuracy: ' + str(test_acc) + '\\n')\n",
    "\n",
    "    torch.save({'state_dict': model.state_dict, 'loss': losses, 'args_dict': args_dict[i]}, 'taxonomy_cnn.pt')\n",
    "\n"
   ]
  },
  {
   "cell_type": "code",
   "execution_count": null,
   "metadata": {},
   "outputs": [],
   "source": [
    "    train_acc = evaluate_model(model.cpu(), dataset, train_labels.cpu())\n",
    "    print('Final train accuracy: ' + str(train_acc))\n",
    "    \n",
    "    test_labels = torch.from_numpy(np.asarray(test_labels))\n",
    "    test_acc = evaluate_model(model.cpu(), test_set, test_labels)\n",
    "    print('Final test accuracy: ' + str(test_acc))"
   ]
  }
 ],
 "metadata": {
  "kernelspec": {
   "display_name": "Python 3",
   "language": "python",
   "name": "python3"
  },
  "language_info": {
   "codemirror_mode": {
    "name": "ipython",
    "version": 3
   },
   "file_extension": ".py",
   "mimetype": "text/x-python",
   "name": "python",
   "nbconvert_exporter": "python",
   "pygments_lexer": "ipython3",
   "version": "3.8.10"
  }
 },
 "nbformat": 4,
 "nbformat_minor": 4
}
