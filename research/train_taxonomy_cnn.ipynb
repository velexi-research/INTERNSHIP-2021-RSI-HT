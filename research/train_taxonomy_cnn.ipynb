{
 "cells": [
  {
   "cell_type": "code",
   "execution_count": 3,
   "metadata": {},
   "outputs": [],
   "source": [
    "import torch\n",
    "import numpy as np\n",
    "from matplotlib import pyplot as plt\n",
    "import datetime\n",
    "import json\n",
    "sys.path.insert(0, '../lib')\n",
    "from models import TaxonomyCNN, evaluate_model\n",
    "from dataset_utils import train_test_split, split_dataset\n",
    "from datasets import Genes, Mutations"
   ]
  },
  {
   "cell_type": "code",
   "execution_count": null,
   "metadata": {
    "scrolled": true
   },
   "outputs": [
    {
     "name": "stdout",
     "output_type": "stream",
     "text": [
      "Epoch: 1/100\n"
     ]
    }
   ],
   "source": [
    "with open('../reports/parameters_cnn.json', 'r') as file:\n",
    "    args_dict = json.load(file)\n",
    "\n",
    "for i in range(len(args_dict)):\n",
    "    current_time = datetime.datetime.now().strftime('%d-%m-%Y_%H:%M:%S')\n",
    "    dataset = datasets.Genes('../data', k=args_dict[i]['k'], genes_dict=args_dict[i]['genes_dict'])\n",
    "    dataset, test_set = split_dataset(dataset, test_size=0.1, shuffle=True)\n",
    "\n",
    "    train_labels = torch.from_numpy(np.array(dataset.y)).cuda()\n",
    "    test_labels = torch.from_numpy(np.array(test_set.y))\n",
    "\n",
    "    dataset_loader = torch.utils.data.DataLoader(dataset, batch_size=5)\n",
    "    labels_loader = torch.utils.data.DataLoader(train_labels, batch_size=5)\n",
    "\n",
    "    model = TaxonomyCNN(dataset, kernel_size=args_dict[i]['kernel_size']).train().cuda()\n",
    "    criterion = torch.nn.CrossEntropyLoss()\n",
    "    optimizer = torch.optim.Adam(model.parameters(), lr=args_dict[i]['lr'])\n",
    "\n",
    "    losses = []\n",
    "    accuracies = []\n",
    "    for epoch in range(args_dict[i]['epochs']):\n",
    "        print('Epoch: ' + str(epoch + 1) + '/' + str(args_dict[i]['epochs']))\n",
    "        model = model.train().cuda()\n",
    "\n",
    "        for x, y in zip(dataset_loader, labels_loader):\n",
    "            optimizer.zero_grad()\n",
    "\n",
    "            prediction = model(x.cuda())\n",
    "            loss = criterion(prediction, y)\n",
    "\n",
    "            loss.backward()\n",
    "            optimizer.step()\n",
    "\n",
    "        losses.append(loss.item())\n",
    "        print('Loss: ' + str(losses[-1]))\n",
    "\n",
    "        test_acc, y_pred = evaluate_model(model.cpu(), test_set, test_labels)\n",
    "        print('Test accuracy: ' + str(test_acc) + '\\n')\n",
    "        accuracies.append(test_acc)\n",
    "\n",
    "    test_acc, y_pred = evaluate_model(model.cpu(), test_set, test_labels)\n",
    "    print('Final test accuracy: ' + str(test_acc) + '\\n')\n",
    "\n",
    "    cm = construct_confusion_matrix(y_true=test_labels.numpy(), y_pred=y_pred)\n",
    "    plot_confusion_matrix(cm=cm, classes=dataset.genes_dict)\n",
    "    plt.savefig('../reports/cm/cnn_' + current_time + '.png')\n",
    "\n",
    "    torch.save({'state_dict': model.state_dict(), 'loss': losses, 'accuracies': accuracies, 'args_dict': args_dict[i]},\n",
    "               '../results/cnn_' + current_time + '.pt')"
   ]
  }
 ],
 "metadata": {
  "kernelspec": {
   "display_name": "Python 3",
   "language": "python",
   "name": "python3"
  },
  "language_info": {
   "codemirror_mode": {
    "name": "ipython",
    "version": 3
   },
   "file_extension": ".py",
   "mimetype": "text/x-python",
   "name": "python",
   "nbconvert_exporter": "python",
   "pygments_lexer": "ipython3",
   "version": "3.8.10"
  }
 },
 "nbformat": 4,
 "nbformat_minor": 4
}
